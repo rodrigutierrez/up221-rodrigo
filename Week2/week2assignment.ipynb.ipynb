{
 "cells": [
  {
   "cell_type": "code",
   "execution_count": 64,
   "id": "a565791a-9943-4c07-a312-ba8547067f6e",
   "metadata": {},
   "outputs": [],
   "source": [
    "# Week 2 Assignment"
   ]
  },
  {
   "cell_type": "code",
   "execution_count": 65,
   "id": "0cd32791-452b-4bdd-ad73-86f217e4c8a4",
   "metadata": {},
   "outputs": [],
   "source": [
    "## Data Exploration"
   ]
  },
  {
   "cell_type": "code",
   "execution_count": 66,
   "id": "372c8ce9-fcc8-4f8e-8f3a-85a20355e4a9",
   "metadata": {},
   "outputs": [],
   "source": [
    "### My name is Rodrigo Gutierrez and I am exploring data."
   ]
  },
  {
   "cell_type": "code",
   "execution_count": 67,
   "id": "148e7c63-fbe4-4ab8-bf68-df13c64aa825",
   "metadata": {},
   "outputs": [],
   "source": [
    "# importing panda libraries\n",
    "import pandas as pd"
   ]
  },
  {
   "cell_type": "code",
   "execution_count": 68,
   "id": "66c97e6c-6c5e-468a-ba83-6a2c541f83eb",
   "metadata": {},
   "outputs": [],
   "source": [
    "# reading in my CSV file and assigning it to the variable 'transit'"
   ]
  },
  {
   "cell_type": "code",
   "execution_count": 69,
   "id": "3f8edab1-09d6-46b1-831a-c2e93575ae61",
   "metadata": {},
   "outputs": [],
   "source": [
    "transit = pd.read_csv('Daily_Transit_Ridership.csv')"
   ]
  },
  {
   "cell_type": "code",
   "execution_count": 70,
   "id": "10f924ae-7ec3-4edb-81ed-6b1238691564",
   "metadata": {},
   "outputs": [],
   "source": [
    "# by using .shape, it will let you know how many rows and columns are within your data set, 211 rows and 6 columns"
   ]
  },
  {
   "cell_type": "code",
   "execution_count": 71,
   "id": "e8bd27cc-2118-4e15-942e-077cbc4bbada",
   "metadata": {},
   "outputs": [
    {
     "data": {
      "text/plain": [
       "(211, 6)"
      ]
     },
     "execution_count": 71,
     "metadata": {},
     "output_type": "execute_result"
    }
   ],
   "source": [
    "transit.shape"
   ]
  },
  {
   "cell_type": "code",
   "execution_count": 72,
   "id": "0fbc738b-a78b-4848-9c4f-54c691514bf6",
   "metadata": {},
   "outputs": [],
   "source": [
    "# .info gives you a general overview of the information such as whether there are strings, integers or floats,, i find out from this that there are 210 different days reported on within the year 2022"
   ]
  },
  {
   "cell_type": "code",
   "execution_count": 73,
   "id": "9af7abbb-411d-4320-96fb-597b1982ce8a",
   "metadata": {},
   "outputs": [
    {
     "data": {
      "text/plain": [
       "<bound method DataFrame.info of                       Agency     Mode        Date  Week Number  \\\n",
       "0         WMATA Bus and Rail  Transit  06/05/2022           24   \n",
       "1         WMATA Bus and Rail  Transit  06/06/2022           24   \n",
       "2         WMATA Bus and Rail  Transit  06/07/2022           24   \n",
       "3         WMATA Bus and Rail  Transit  06/08/2022           24   \n",
       "4         WMATA Bus and Rail  Transit  06/09/2022           24   \n",
       "..                       ...      ...         ...          ...   \n",
       "206  San Francisco BART Rail  Transit  08/30/2022           36   \n",
       "207  San Francisco BART Rail  Transit  08/31/2022           36   \n",
       "208  San Francisco BART Rail  Transit  09/01/2022           36   \n",
       "209  San Francisco BART Rail  Transit  09/02/2022           36   \n",
       "210  San Francisco BART Rail  Transit  09/03/2022           36   \n",
       "\n",
       "     Current Ridership  Year  \n",
       "0               266000  2022  \n",
       "1               506000  2022  \n",
       "2               536000  2022  \n",
       "3               551000  2022  \n",
       "4               539000  2022  \n",
       "..                 ...   ...  \n",
       "206             155141  2022  \n",
       "207             161236  2022  \n",
       "208             159373  2022  \n",
       "209             138449  2022  \n",
       "210              90241  2022  \n",
       "\n",
       "[211 rows x 6 columns]>"
      ]
     },
     "execution_count": 73,
     "metadata": {},
     "output_type": "execute_result"
    }
   ],
   "source": [
    "transit.info"
   ]
  },
  {
   "cell_type": "code",
   "execution_count": 92,
   "id": "b1dddabd-5203-404a-9fea-00892f6bbf77",
   "metadata": {},
   "outputs": [],
   "source": [
    "# using the .head() code, you are able to see a specific amount of rows, in this case I chose 12, I see 6 rows for WMATA and 5 for MTA"
   ]
  },
  {
   "cell_type": "code",
   "execution_count": 93,
   "id": "5ab1fd66-7a4f-4208-bf91-eb08827cb75c",
   "metadata": {},
   "outputs": [
    {
     "data": {
      "text/html": [
       "<div>\n",
       "<style scoped>\n",
       "    .dataframe tbody tr th:only-of-type {\n",
       "        vertical-align: middle;\n",
       "    }\n",
       "\n",
       "    .dataframe tbody tr th {\n",
       "        vertical-align: top;\n",
       "    }\n",
       "\n",
       "    .dataframe thead th {\n",
       "        text-align: right;\n",
       "    }\n",
       "</style>\n",
       "<table border=\"1\" class=\"dataframe\">\n",
       "  <thead>\n",
       "    <tr style=\"text-align: right;\">\n",
       "      <th></th>\n",
       "      <th>Agency</th>\n",
       "      <th>Mode</th>\n",
       "      <th>Date</th>\n",
       "      <th>Week Number</th>\n",
       "      <th>Current Ridership</th>\n",
       "      <th>Year</th>\n",
       "    </tr>\n",
       "  </thead>\n",
       "  <tbody>\n",
       "    <tr>\n",
       "      <th>0</th>\n",
       "      <td>WMATA Bus and Rail</td>\n",
       "      <td>Transit</td>\n",
       "      <td>06/05/2022</td>\n",
       "      <td>24</td>\n",
       "      <td>266000</td>\n",
       "      <td>2022</td>\n",
       "    </tr>\n",
       "    <tr>\n",
       "      <th>1</th>\n",
       "      <td>WMATA Bus and Rail</td>\n",
       "      <td>Transit</td>\n",
       "      <td>06/06/2022</td>\n",
       "      <td>24</td>\n",
       "      <td>506000</td>\n",
       "      <td>2022</td>\n",
       "    </tr>\n",
       "    <tr>\n",
       "      <th>2</th>\n",
       "      <td>WMATA Bus and Rail</td>\n",
       "      <td>Transit</td>\n",
       "      <td>06/07/2022</td>\n",
       "      <td>24</td>\n",
       "      <td>536000</td>\n",
       "      <td>2022</td>\n",
       "    </tr>\n",
       "    <tr>\n",
       "      <th>3</th>\n",
       "      <td>WMATA Bus and Rail</td>\n",
       "      <td>Transit</td>\n",
       "      <td>06/08/2022</td>\n",
       "      <td>24</td>\n",
       "      <td>551000</td>\n",
       "      <td>2022</td>\n",
       "    </tr>\n",
       "    <tr>\n",
       "      <th>4</th>\n",
       "      <td>WMATA Bus and Rail</td>\n",
       "      <td>Transit</td>\n",
       "      <td>06/09/2022</td>\n",
       "      <td>24</td>\n",
       "      <td>539000</td>\n",
       "      <td>2022</td>\n",
       "    </tr>\n",
       "    <tr>\n",
       "      <th>5</th>\n",
       "      <td>WMATA Bus and Rail</td>\n",
       "      <td>Transit</td>\n",
       "      <td>06/10/2022</td>\n",
       "      <td>24</td>\n",
       "      <td>537000</td>\n",
       "      <td>2022</td>\n",
       "    </tr>\n",
       "    <tr>\n",
       "      <th>6</th>\n",
       "      <td>WMATA Bus and Rail</td>\n",
       "      <td>Transit</td>\n",
       "      <td>06/11/2022</td>\n",
       "      <td>24</td>\n",
       "      <td>389000</td>\n",
       "      <td>2022</td>\n",
       "    </tr>\n",
       "    <tr>\n",
       "      <th>7</th>\n",
       "      <td>New York City MTA Rail</td>\n",
       "      <td>Transit</td>\n",
       "      <td>06/25/2022</td>\n",
       "      <td>27</td>\n",
       "      <td>2287013</td>\n",
       "      <td>2022</td>\n",
       "    </tr>\n",
       "    <tr>\n",
       "      <th>8</th>\n",
       "      <td>New York City MTA Rail</td>\n",
       "      <td>Transit</td>\n",
       "      <td>06/26/2022</td>\n",
       "      <td>27</td>\n",
       "      <td>2012595</td>\n",
       "      <td>2022</td>\n",
       "    </tr>\n",
       "    <tr>\n",
       "      <th>9</th>\n",
       "      <td>New York City MTA Rail</td>\n",
       "      <td>Transit</td>\n",
       "      <td>06/27/2022</td>\n",
       "      <td>27</td>\n",
       "      <td>2938858</td>\n",
       "      <td>2022</td>\n",
       "    </tr>\n",
       "    <tr>\n",
       "      <th>10</th>\n",
       "      <td>New York City MTA Rail</td>\n",
       "      <td>Transit</td>\n",
       "      <td>06/28/2022</td>\n",
       "      <td>27</td>\n",
       "      <td>3255241</td>\n",
       "      <td>2022</td>\n",
       "    </tr>\n",
       "    <tr>\n",
       "      <th>11</th>\n",
       "      <td>New York City MTA Rail</td>\n",
       "      <td>Transit</td>\n",
       "      <td>06/29/2022</td>\n",
       "      <td>27</td>\n",
       "      <td>3256053</td>\n",
       "      <td>2022</td>\n",
       "    </tr>\n",
       "  </tbody>\n",
       "</table>\n",
       "</div>"
      ],
      "text/plain": [
       "                    Agency     Mode        Date  Week Number  \\\n",
       "0       WMATA Bus and Rail  Transit  06/05/2022           24   \n",
       "1       WMATA Bus and Rail  Transit  06/06/2022           24   \n",
       "2       WMATA Bus and Rail  Transit  06/07/2022           24   \n",
       "3       WMATA Bus and Rail  Transit  06/08/2022           24   \n",
       "4       WMATA Bus and Rail  Transit  06/09/2022           24   \n",
       "5       WMATA Bus and Rail  Transit  06/10/2022           24   \n",
       "6       WMATA Bus and Rail  Transit  06/11/2022           24   \n",
       "7   New York City MTA Rail  Transit  06/25/2022           27   \n",
       "8   New York City MTA Rail  Transit  06/26/2022           27   \n",
       "9   New York City MTA Rail  Transit  06/27/2022           27   \n",
       "10  New York City MTA Rail  Transit  06/28/2022           27   \n",
       "11  New York City MTA Rail  Transit  06/29/2022           27   \n",
       "\n",
       "    Current Ridership  Year  \n",
       "0              266000  2022  \n",
       "1              506000  2022  \n",
       "2              536000  2022  \n",
       "3              551000  2022  \n",
       "4              539000  2022  \n",
       "5              537000  2022  \n",
       "6              389000  2022  \n",
       "7             2287013  2022  \n",
       "8             2012595  2022  \n",
       "9             2938858  2022  \n",
       "10            3255241  2022  \n",
       "11            3256053  2022  "
      ]
     },
     "execution_count": 93,
     "metadata": {},
     "output_type": "execute_result"
    }
   ],
   "source": [
    "transit.head(12)"
   ]
  },
  {
   "cell_type": "code",
   "execution_count": 94,
   "id": "62682fb4-468c-4f33-a21c-60d8e3e713ec",
   "metadata": {},
   "outputs": [],
   "source": [
    "# in order to trim the data, I will assign the variable 'desired_columns' with three specific columns I am interested in, Agency, Current Ridership, and Year"
   ]
  },
  {
   "cell_type": "code",
   "execution_count": 95,
   "id": "f9a840fa-fb39-492a-bbb2-d57c07ccc136",
   "metadata": {},
   "outputs": [],
   "source": [
    "# I will then use the .sample() code to get a visualization of what that trimmed data looks like"
   ]
  },
  {
   "cell_type": "code",
   "execution_count": 96,
   "id": "8f8de247-78c2-4f5a-a2e4-aa5ceb8198bf",
   "metadata": {},
   "outputs": [
    {
     "data": {
      "text/html": [
       "<div>\n",
       "<style scoped>\n",
       "    .dataframe tbody tr th:only-of-type {\n",
       "        vertical-align: middle;\n",
       "    }\n",
       "\n",
       "    .dataframe tbody tr th {\n",
       "        vertical-align: top;\n",
       "    }\n",
       "\n",
       "    .dataframe thead th {\n",
       "        text-align: right;\n",
       "    }\n",
       "</style>\n",
       "<table border=\"1\" class=\"dataframe\">\n",
       "  <thead>\n",
       "    <tr style=\"text-align: right;\">\n",
       "      <th></th>\n",
       "      <th>Agency</th>\n",
       "      <th>Current Ridership</th>\n",
       "      <th>Year</th>\n",
       "    </tr>\n",
       "  </thead>\n",
       "  <tbody>\n",
       "    <tr>\n",
       "      <th>76</th>\n",
       "      <td>WMATA Bus and Rail</td>\n",
       "      <td>543000</td>\n",
       "      <td>2022</td>\n",
       "    </tr>\n",
       "    <tr>\n",
       "      <th>94</th>\n",
       "      <td>WMATA Bus and Rail</td>\n",
       "      <td>481000</td>\n",
       "      <td>2022</td>\n",
       "    </tr>\n",
       "    <tr>\n",
       "      <th>206</th>\n",
       "      <td>San Francisco BART Rail</td>\n",
       "      <td>155141</td>\n",
       "      <td>2022</td>\n",
       "    </tr>\n",
       "    <tr>\n",
       "      <th>105</th>\n",
       "      <td>WMATA Bus and Rail</td>\n",
       "      <td>348000</td>\n",
       "      <td>2022</td>\n",
       "    </tr>\n",
       "    <tr>\n",
       "      <th>91</th>\n",
       "      <td>WMATA Bus and Rail</td>\n",
       "      <td>328000</td>\n",
       "      <td>2022</td>\n",
       "    </tr>\n",
       "    <tr>\n",
       "      <th>151</th>\n",
       "      <td>San Francisco BART Rail</td>\n",
       "      <td>137052</td>\n",
       "      <td>2022</td>\n",
       "    </tr>\n",
       "    <tr>\n",
       "      <th>31</th>\n",
       "      <td>New York City MTA Rail</td>\n",
       "      <td>3175609</td>\n",
       "      <td>2022</td>\n",
       "    </tr>\n",
       "    <tr>\n",
       "      <th>111</th>\n",
       "      <td>WMATA Bus and Rail</td>\n",
       "      <td>487000</td>\n",
       "      <td>2022</td>\n",
       "    </tr>\n",
       "    <tr>\n",
       "      <th>62</th>\n",
       "      <td>New York City MTA Rail</td>\n",
       "      <td>2923869</td>\n",
       "      <td>2022</td>\n",
       "    </tr>\n",
       "    <tr>\n",
       "      <th>161</th>\n",
       "      <td>San Francisco BART Rail</td>\n",
       "      <td>83108</td>\n",
       "      <td>2022</td>\n",
       "    </tr>\n",
       "    <tr>\n",
       "      <th>155</th>\n",
       "      <td>San Francisco BART Rail</td>\n",
       "      <td>60609</td>\n",
       "      <td>2022</td>\n",
       "    </tr>\n",
       "    <tr>\n",
       "      <th>179</th>\n",
       "      <td>San Francisco BART Rail</td>\n",
       "      <td>145258</td>\n",
       "      <td>2022</td>\n",
       "    </tr>\n",
       "  </tbody>\n",
       "</table>\n",
       "</div>"
      ],
      "text/plain": [
       "                      Agency  Current Ridership  Year\n",
       "76        WMATA Bus and Rail             543000  2022\n",
       "94        WMATA Bus and Rail             481000  2022\n",
       "206  San Francisco BART Rail             155141  2022\n",
       "105       WMATA Bus and Rail             348000  2022\n",
       "91        WMATA Bus and Rail             328000  2022\n",
       "151  San Francisco BART Rail             137052  2022\n",
       "31    New York City MTA Rail            3175609  2022\n",
       "111       WMATA Bus and Rail             487000  2022\n",
       "62    New York City MTA Rail            2923869  2022\n",
       "161  San Francisco BART Rail              83108  2022\n",
       "155  San Francisco BART Rail              60609  2022\n",
       "179  San Francisco BART Rail             145258  2022"
      ]
     },
     "execution_count": 96,
     "metadata": {},
     "output_type": "execute_result"
    }
   ],
   "source": [
    "desired_columns = ['Agency','Current Ridership', 'Year']\n",
    "transit[desired_columns].sample(12)"
   ]
  },
  {
   "cell_type": "code",
   "execution_count": 97,
   "id": "8f9ebb0a-0340-4715-8c22-1d89b4b0fb72",
   "metadata": {},
   "outputs": [],
   "source": [
    "# In this step, I am saving the variable and renaming it at the same time"
   ]
  },
  {
   "cell_type": "code",
   "execution_count": 98,
   "id": "999be0cf-86e7-4e51-8cbe-eee605d999d4",
   "metadata": {},
   "outputs": [
    {
     "data": {
      "text/html": [
       "<div>\n",
       "<style scoped>\n",
       "    .dataframe tbody tr th:only-of-type {\n",
       "        vertical-align: middle;\n",
       "    }\n",
       "\n",
       "    .dataframe tbody tr th {\n",
       "        vertical-align: top;\n",
       "    }\n",
       "\n",
       "    .dataframe thead th {\n",
       "        text-align: right;\n",
       "    }\n",
       "</style>\n",
       "<table border=\"1\" class=\"dataframe\">\n",
       "  <thead>\n",
       "    <tr style=\"text-align: right;\">\n",
       "      <th></th>\n",
       "      <th>Agency</th>\n",
       "      <th>Current Ridership</th>\n",
       "      <th>Year</th>\n",
       "    </tr>\n",
       "  </thead>\n",
       "  <tbody>\n",
       "    <tr>\n",
       "      <th>0</th>\n",
       "      <td>WMATA Bus and Rail</td>\n",
       "      <td>266000</td>\n",
       "      <td>2022</td>\n",
       "    </tr>\n",
       "    <tr>\n",
       "      <th>1</th>\n",
       "      <td>WMATA Bus and Rail</td>\n",
       "      <td>506000</td>\n",
       "      <td>2022</td>\n",
       "    </tr>\n",
       "    <tr>\n",
       "      <th>2</th>\n",
       "      <td>WMATA Bus and Rail</td>\n",
       "      <td>536000</td>\n",
       "      <td>2022</td>\n",
       "    </tr>\n",
       "    <tr>\n",
       "      <th>3</th>\n",
       "      <td>WMATA Bus and Rail</td>\n",
       "      <td>551000</td>\n",
       "      <td>2022</td>\n",
       "    </tr>\n",
       "    <tr>\n",
       "      <th>4</th>\n",
       "      <td>WMATA Bus and Rail</td>\n",
       "      <td>539000</td>\n",
       "      <td>2022</td>\n",
       "    </tr>\n",
       "    <tr>\n",
       "      <th>...</th>\n",
       "      <td>...</td>\n",
       "      <td>...</td>\n",
       "      <td>...</td>\n",
       "    </tr>\n",
       "    <tr>\n",
       "      <th>206</th>\n",
       "      <td>San Francisco BART Rail</td>\n",
       "      <td>155141</td>\n",
       "      <td>2022</td>\n",
       "    </tr>\n",
       "    <tr>\n",
       "      <th>207</th>\n",
       "      <td>San Francisco BART Rail</td>\n",
       "      <td>161236</td>\n",
       "      <td>2022</td>\n",
       "    </tr>\n",
       "    <tr>\n",
       "      <th>208</th>\n",
       "      <td>San Francisco BART Rail</td>\n",
       "      <td>159373</td>\n",
       "      <td>2022</td>\n",
       "    </tr>\n",
       "    <tr>\n",
       "      <th>209</th>\n",
       "      <td>San Francisco BART Rail</td>\n",
       "      <td>138449</td>\n",
       "      <td>2022</td>\n",
       "    </tr>\n",
       "    <tr>\n",
       "      <th>210</th>\n",
       "      <td>San Francisco BART Rail</td>\n",
       "      <td>90241</td>\n",
       "      <td>2022</td>\n",
       "    </tr>\n",
       "  </tbody>\n",
       "</table>\n",
       "<p>211 rows × 3 columns</p>\n",
       "</div>"
      ],
      "text/plain": [
       "                      Agency  Current Ridership  Year\n",
       "0         WMATA Bus and Rail             266000  2022\n",
       "1         WMATA Bus and Rail             506000  2022\n",
       "2         WMATA Bus and Rail             536000  2022\n",
       "3         WMATA Bus and Rail             551000  2022\n",
       "4         WMATA Bus and Rail             539000  2022\n",
       "..                       ...                ...   ...\n",
       "206  San Francisco BART Rail             155141  2022\n",
       "207  San Francisco BART Rail             161236  2022\n",
       "208  San Francisco BART Rail             159373  2022\n",
       "209  San Francisco BART Rail             138449  2022\n",
       "210  San Francisco BART Rail              90241  2022\n",
       "\n",
       "[211 rows x 3 columns]"
      ]
     },
     "execution_count": 98,
     "metadata": {},
     "output_type": "execute_result"
    }
   ],
   "source": [
    "transit_trimmed = transit[desired_columns].copy()\n",
    "transit_trimmed"
   ]
  },
  {
   "cell_type": "code",
   "execution_count": 99,
   "id": "580ac6d3-e64d-4a01-a729-7fb7f74ada9d",
   "metadata": {},
   "outputs": [],
   "source": [
    "# In this line of code, I am choosing specific data within a column, in this case WMATA Bus and Rail "
   ]
  },
  {
   "cell_type": "code",
   "execution_count": 100,
   "id": "6cd3779b-4189-4d08-8feb-af831615bdd5",
   "metadata": {},
   "outputs": [
    {
     "data": {
      "text/html": [
       "<div>\n",
       "<style scoped>\n",
       "    .dataframe tbody tr th:only-of-type {\n",
       "        vertical-align: middle;\n",
       "    }\n",
       "\n",
       "    .dataframe tbody tr th {\n",
       "        vertical-align: top;\n",
       "    }\n",
       "\n",
       "    .dataframe thead th {\n",
       "        text-align: right;\n",
       "    }\n",
       "</style>\n",
       "<table border=\"1\" class=\"dataframe\">\n",
       "  <thead>\n",
       "    <tr style=\"text-align: right;\">\n",
       "      <th></th>\n",
       "      <th>Agency</th>\n",
       "      <th>Current Ridership</th>\n",
       "      <th>Year</th>\n",
       "    </tr>\n",
       "  </thead>\n",
       "  <tbody>\n",
       "    <tr>\n",
       "      <th>0</th>\n",
       "      <td>WMATA Bus and Rail</td>\n",
       "      <td>266000</td>\n",
       "      <td>2022</td>\n",
       "    </tr>\n",
       "    <tr>\n",
       "      <th>1</th>\n",
       "      <td>WMATA Bus and Rail</td>\n",
       "      <td>506000</td>\n",
       "      <td>2022</td>\n",
       "    </tr>\n",
       "    <tr>\n",
       "      <th>2</th>\n",
       "      <td>WMATA Bus and Rail</td>\n",
       "      <td>536000</td>\n",
       "      <td>2022</td>\n",
       "    </tr>\n",
       "    <tr>\n",
       "      <th>3</th>\n",
       "      <td>WMATA Bus and Rail</td>\n",
       "      <td>551000</td>\n",
       "      <td>2022</td>\n",
       "    </tr>\n",
       "    <tr>\n",
       "      <th>4</th>\n",
       "      <td>WMATA Bus and Rail</td>\n",
       "      <td>539000</td>\n",
       "      <td>2022</td>\n",
       "    </tr>\n",
       "    <tr>\n",
       "      <th>...</th>\n",
       "      <td>...</td>\n",
       "      <td>...</td>\n",
       "      <td>...</td>\n",
       "    </tr>\n",
       "    <tr>\n",
       "      <th>136</th>\n",
       "      <td>WMATA Bus and Rail</td>\n",
       "      <td>527000</td>\n",
       "      <td>2022</td>\n",
       "    </tr>\n",
       "    <tr>\n",
       "      <th>137</th>\n",
       "      <td>WMATA Bus and Rail</td>\n",
       "      <td>523000</td>\n",
       "      <td>2022</td>\n",
       "    </tr>\n",
       "    <tr>\n",
       "      <th>138</th>\n",
       "      <td>WMATA Bus and Rail</td>\n",
       "      <td>509000</td>\n",
       "      <td>2022</td>\n",
       "    </tr>\n",
       "    <tr>\n",
       "      <th>139</th>\n",
       "      <td>WMATA Bus and Rail</td>\n",
       "      <td>483000</td>\n",
       "      <td>2022</td>\n",
       "    </tr>\n",
       "    <tr>\n",
       "      <th>140</th>\n",
       "      <td>WMATA Bus and Rail</td>\n",
       "      <td>333000</td>\n",
       "      <td>2022</td>\n",
       "    </tr>\n",
       "  </tbody>\n",
       "</table>\n",
       "<p>77 rows × 3 columns</p>\n",
       "</div>"
      ],
      "text/plain": [
       "                 Agency  Current Ridership  Year\n",
       "0    WMATA Bus and Rail             266000  2022\n",
       "1    WMATA Bus and Rail             506000  2022\n",
       "2    WMATA Bus and Rail             536000  2022\n",
       "3    WMATA Bus and Rail             551000  2022\n",
       "4    WMATA Bus and Rail             539000  2022\n",
       "..                  ...                ...   ...\n",
       "136  WMATA Bus and Rail             527000  2022\n",
       "137  WMATA Bus and Rail             523000  2022\n",
       "138  WMATA Bus and Rail             509000  2022\n",
       "139  WMATA Bus and Rail             483000  2022\n",
       "140  WMATA Bus and Rail             333000  2022\n",
       "\n",
       "[77 rows x 3 columns]"
      ]
     },
     "execution_count": 100,
     "metadata": {},
     "output_type": "execute_result"
    }
   ],
   "source": [
    "transit_trimmed[transit_trimmed.Agency =='WMATA Bus and Rail']"
   ]
  },
  {
   "cell_type": "code",
   "execution_count": 101,
   "id": "1aef6cfb-0da4-423b-899f-caa041f53c43",
   "metadata": {},
   "outputs": [],
   "source": [
    "# Using value_counts() and specifying Agency within my data, I get the number of days for which transit ridership data is available. WMATA has the most data with 77 days reported, SFO BART has 670 and NYC MTA has 64"
   ]
  },
  {
   "cell_type": "code",
   "execution_count": 102,
   "id": "b605bd53-2d71-4b36-9d43-cbaa7a24f970",
   "metadata": {},
   "outputs": [
    {
     "data": {
      "text/plain": [
       "Agency\n",
       "WMATA Bus and Rail         77\n",
       "San Francisco BART Rail    70\n",
       "New York City MTA Rail     64\n",
       "Name: count, dtype: int64"
      ]
     },
     "execution_count": 102,
     "metadata": {},
     "output_type": "execute_result"
    }
   ],
   "source": [
    "transit['Agency'].value_counts()"
   ]
  },
  {
   "cell_type": "code",
   "execution_count": 103,
   "id": "cba0ef0b-41dd-4eb5-96ee-275f68719f02",
   "metadata": {},
   "outputs": [],
   "source": [
    "# I am then saving this as a variable, transit_count"
   ]
  },
  {
   "cell_type": "code",
   "execution_count": 104,
   "id": "92b683d1-ef04-4660-8a43-548f174a9875",
   "metadata": {},
   "outputs": [],
   "source": [
    "transit_count = transit['Agency'].value_counts()"
   ]
  },
  {
   "cell_type": "code",
   "execution_count": 105,
   "id": "82cfb7fd-886d-41ea-8cce-1f4576eb5420",
   "metadata": {},
   "outputs": [],
   "source": [
    "# I am using this saved value_counts to graph my trimmed data in a bar plot, which shows WMATA with the most information available"
   ]
  },
  {
   "cell_type": "code",
   "execution_count": 106,
   "id": "792f48cc-4a27-4454-9ae4-d444e7c3fe26",
   "metadata": {},
   "outputs": [
    {
     "data": {
      "text/plain": [
       "<Axes: title={'center': 'Transit Agencies Number of Days for which data is included '}, xlabel='Agency'>"
      ]
     },
     "execution_count": 106,
     "metadata": {},
     "output_type": "execute_result"
    },
    {
     "data": {
      "image/png": "[encoded data removed]",
      "text/plain": [
       "<Figure size 640x480 with 1 Axes>"
      ]
     },
     "metadata": {},
     "output_type": "display_data"
    }
   ],
   "source": [
    "transit_count.plot.bar(x = 'Agency', y = 'Number of Weeks Data Available', title = 'Transit Agencies Number of Days for which data is included ')"
   ]
  }
 ],
 "metadata": {
  "kernelspec": {
   "display_name": "Python 3 (ipykernel)",
   "language": "python",
   "name": "python3"
  },
  "language_info": {
   "codemirror_mode": {
    "name": "ipython",
    "version": 3
   },
   "file_extension": ".py",
   "mimetype": "text/x-python",
   "name": "python",
   "nbconvert_exporter": "python",
   "pygments_lexer": "ipython3",
   "version": "3.11.7"
  }
 },
 "nbformat": 4,
 "nbformat_minor": 5
}
